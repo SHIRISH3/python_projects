{
 "cells": [
  {
   "cell_type": "code",
   "execution_count": 2,
   "metadata": {},
   "outputs": [
    {
     "name": "stdout",
     "output_type": "stream",
     "text": [
      "enter your height in centimeters: 175\n",
      "enter your weight in kg: 60\n"
     ]
    }
   ],
   "source": [
    "#taking input of height and weight\n",
    "height = float(input(\"enter your height in centimeters: \"))\n",
    "weight = float(input(\"enter your weight in kg: \"))"
   ]
  },
  {
   "cell_type": "code",
   "execution_count": 3,
   "metadata": {},
   "outputs": [],
   "source": [
    "height = height/100"
   ]
  },
  {
   "cell_type": "code",
   "execution_count": 8,
   "metadata": {},
   "outputs": [],
   "source": [
    "#BMI formula\n",
    "BMI = weight/ (height*height)"
   ]
  },
  {
   "cell_type": "code",
   "execution_count": 5,
   "metadata": {},
   "outputs": [
    {
     "name": "stdout",
     "output_type": "stream",
     "text": [
      "you Body Mass Index is:  19.591836734693878\n"
     ]
    }
   ],
   "source": [
    "print(\"you Body Mass Index is: \",BMI)"
   ]
  },
  {
   "cell_type": "code",
   "execution_count": 7,
   "metadata": {},
   "outputs": [
    {
     "name": "stdout",
     "output_type": "stream",
     "text": [
      "you are Healty\n"
     ]
    }
   ],
   "source": [
    "if(BMI > 0):\n",
    "    if(BMI<= 16):\n",
    "        print(\"you are severly underweight\")\n",
    "    elif(BMI <=18.25):\n",
    "        print(\"you are underweight\")\n",
    "    elif(BMI <=25):\n",
    "        print(\"you are Healty\")\n",
    "    elif(BMI <=30):\n",
    "        print(\"you are Overweight\")\n",
    "    else:\n",
    "        print(\"you are severly overweight\")\n",
    "else:\n",
    "    print(\"enter valid details\")\n",
    "        "
   ]
  },
  {
   "cell_type": "code",
   "execution_count": null,
   "metadata": {},
   "outputs": [],
   "source": []
  }
 ],
 "metadata": {
  "kernelspec": {
   "display_name": "Python 3",
   "language": "python",
   "name": "python3"
  },
  "language_info": {
   "codemirror_mode": {
    "name": "ipython",
    "version": 3
   },
   "file_extension": ".py",
   "mimetype": "text/x-python",
   "name": "python",
   "nbconvert_exporter": "python",
   "pygments_lexer": "ipython3",
   "version": "3.8.5"
  }
 },
 "nbformat": 4,
 "nbformat_minor": 4
}
